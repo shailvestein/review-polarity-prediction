{
 "cells": [
  {
   "cell_type": "markdown",
   "id": "c9f7262c",
   "metadata": {},
   "source": [
    "## Importing libraries"
   ]
  },
  {
   "cell_type": "markdown",
   "id": "af53eb71",
   "metadata": {},
   "source": [
    "* dataset source: "
   ]
  },
  {
   "cell_type": "code",
   "execution_count": 1,
   "id": "f4dbf255",
   "metadata": {},
   "outputs": [],
   "source": [
    "import pandas as pd\n",
    "import numpy as np\n",
    "import os\n",
    "import re\n",
    "import shutil\n",
    "import contractions\n",
    "import seaborn as sns\n",
    "import matplotlib.pyplot as plt\n",
    "from tqdm import tqdm\n",
    "from datetime import datetime\n",
    "from joblib import Parallel, delayed"
   ]
  },
  {
   "cell_type": "code",
   "execution_count": 2,
   "id": "3e83e3a7",
   "metadata": {},
   "outputs": [],
   "source": [
    "root_path = \"E:/projects/ignou project/amazon review/\""
   ]
  },
  {
   "cell_type": "code",
   "execution_count": 3,
   "id": "a8ca7e54",
   "metadata": {},
   "outputs": [
    {
     "data": {
      "text/html": [
       "<div>\n",
       "<style scoped>\n",
       "    .dataframe tbody tr th:only-of-type {\n",
       "        vertical-align: middle;\n",
       "    }\n",
       "\n",
       "    .dataframe tbody tr th {\n",
       "        vertical-align: top;\n",
       "    }\n",
       "\n",
       "    .dataframe thead th {\n",
       "        text-align: right;\n",
       "    }\n",
       "</style>\n",
       "<table border=\"1\" class=\"dataframe\">\n",
       "  <thead>\n",
       "    <tr style=\"text-align: right;\">\n",
       "      <th></th>\n",
       "      <th>polarity</th>\n",
       "      <th>title</th>\n",
       "      <th>text</th>\n",
       "    </tr>\n",
       "  </thead>\n",
       "  <tbody>\n",
       "    <tr>\n",
       "      <th>0</th>\n",
       "      <td>2</td>\n",
       "      <td>Stuning even for the non-gamer</td>\n",
       "      <td>This sound track was beautiful! It paints the ...</td>\n",
       "    </tr>\n",
       "    <tr>\n",
       "      <th>1</th>\n",
       "      <td>2</td>\n",
       "      <td>The best soundtrack ever to anything.</td>\n",
       "      <td>I'm reading a lot of reviews saying that this ...</td>\n",
       "    </tr>\n",
       "    <tr>\n",
       "      <th>2</th>\n",
       "      <td>2</td>\n",
       "      <td>Amazing!</td>\n",
       "      <td>This soundtrack is my favorite music of all ti...</td>\n",
       "    </tr>\n",
       "    <tr>\n",
       "      <th>3</th>\n",
       "      <td>2</td>\n",
       "      <td>Excellent Soundtrack</td>\n",
       "      <td>I truly like this soundtrack and I enjoy video...</td>\n",
       "    </tr>\n",
       "    <tr>\n",
       "      <th>4</th>\n",
       "      <td>2</td>\n",
       "      <td>Remember, Pull Your Jaw Off The Floor After He...</td>\n",
       "      <td>If you've played the game, you know how divine...</td>\n",
       "    </tr>\n",
       "    <tr>\n",
       "      <th>...</th>\n",
       "      <td>...</td>\n",
       "      <td>...</td>\n",
       "      <td>...</td>\n",
       "    </tr>\n",
       "    <tr>\n",
       "      <th>3599995</th>\n",
       "      <td>1</td>\n",
       "      <td>Don't do it!!</td>\n",
       "      <td>The high chair looks great when it first comes...</td>\n",
       "    </tr>\n",
       "    <tr>\n",
       "      <th>3599996</th>\n",
       "      <td>1</td>\n",
       "      <td>Looks nice, low functionality</td>\n",
       "      <td>I have used this highchair for 2 kids now and ...</td>\n",
       "    </tr>\n",
       "    <tr>\n",
       "      <th>3599997</th>\n",
       "      <td>1</td>\n",
       "      <td>compact, but hard to clean</td>\n",
       "      <td>We have a small house, and really wanted two o...</td>\n",
       "    </tr>\n",
       "    <tr>\n",
       "      <th>3599998</th>\n",
       "      <td>1</td>\n",
       "      <td>what is it saying?</td>\n",
       "      <td>not sure what this book is supposed to be. It ...</td>\n",
       "    </tr>\n",
       "    <tr>\n",
       "      <th>3599999</th>\n",
       "      <td>2</td>\n",
       "      <td>Makes My Blood Run Red-White-And-Blue</td>\n",
       "      <td>I agree that every American should read this b...</td>\n",
       "    </tr>\n",
       "  </tbody>\n",
       "</table>\n",
       "<p>3600000 rows × 3 columns</p>\n",
       "</div>"
      ],
      "text/plain": [
       "         polarity                                              title  \\\n",
       "0               2                     Stuning even for the non-gamer   \n",
       "1               2              The best soundtrack ever to anything.   \n",
       "2               2                                           Amazing!   \n",
       "3               2                               Excellent Soundtrack   \n",
       "4               2  Remember, Pull Your Jaw Off The Floor After He...   \n",
       "...           ...                                                ...   \n",
       "3599995         1                                      Don't do it!!   \n",
       "3599996         1                      Looks nice, low functionality   \n",
       "3599997         1                         compact, but hard to clean   \n",
       "3599998         1                                 what is it saying?   \n",
       "3599999         2              Makes My Blood Run Red-White-And-Blue   \n",
       "\n",
       "                                                      text  \n",
       "0        This sound track was beautiful! It paints the ...  \n",
       "1        I'm reading a lot of reviews saying that this ...  \n",
       "2        This soundtrack is my favorite music of all ti...  \n",
       "3        I truly like this soundtrack and I enjoy video...  \n",
       "4        If you've played the game, you know how divine...  \n",
       "...                                                    ...  \n",
       "3599995  The high chair looks great when it first comes...  \n",
       "3599996  I have used this highchair for 2 kids now and ...  \n",
       "3599997  We have a small house, and really wanted two o...  \n",
       "3599998  not sure what this book is supposed to be. It ...  \n",
       "3599999  I agree that every American should read this b...  \n",
       "\n",
       "[3600000 rows x 3 columns]"
      ]
     },
     "execution_count": 3,
     "metadata": {},
     "output_type": "execute_result"
    }
   ],
   "source": [
    "data = pd.read_csv(root_path+'train.csv', names=['polarity', 'title', 'text'])\n",
    "data"
   ]
  },
  {
   "cell_type": "code",
   "execution_count": 4,
   "id": "3df73fac",
   "metadata": {},
   "outputs": [
    {
     "data": {
      "text/plain": [
       "array([2, 1], dtype=int64)"
      ]
     },
     "execution_count": 4,
     "metadata": {},
     "output_type": "execute_result"
    }
   ],
   "source": [
    "data['polarity'].unique()"
   ]
  },
  {
   "cell_type": "markdown",
   "id": "2faa13ba",
   "metadata": {},
   "source": [
    "There are two types of polarity 'positive' and 'negative' represented by '2' and '1' respectively.\n",
    "There are 3.6 Million datapoints with review title and text."
   ]
  },
  {
   "cell_type": "code",
   "execution_count": 5,
   "id": "4565b726",
   "metadata": {},
   "outputs": [
    {
     "data": {
      "text/plain": [
       "1    1800000\n",
       "2    1800000\n",
       "Name: polarity, dtype: int64"
      ]
     },
     "execution_count": 5,
     "metadata": {},
     "output_type": "execute_result"
    }
   ],
   "source": [
    "data['polarity'].value_counts()"
   ]
  },
  {
   "cell_type": "markdown",
   "id": "6d43026c",
   "metadata": {},
   "source": [
    "* There are 1.8M positive and 1.8M negative reviews in our dataset"
   ]
  },
  {
   "cell_type": "code",
   "execution_count": 6,
   "id": "3896b985",
   "metadata": {},
   "outputs": [
    {
     "name": "stdout",
     "output_type": "stream",
     "text": [
      "<class 'pandas.core.frame.DataFrame'>\n",
      "RangeIndex: 3600000 entries, 0 to 3599999\n",
      "Data columns (total 3 columns):\n",
      " #   Column    Dtype \n",
      "---  ------    ----- \n",
      " 0   polarity  int64 \n",
      " 1   title     object\n",
      " 2   text      object\n",
      "dtypes: int64(1), object(2)\n",
      "memory usage: 82.4+ MB\n"
     ]
    }
   ],
   "source": [
    "data.info()"
   ]
  },
  {
   "cell_type": "code",
   "execution_count": 7,
   "id": "2066a452",
   "metadata": {},
   "outputs": [
    {
     "data": {
      "text/html": [
       "<div>\n",
       "<style scoped>\n",
       "    .dataframe tbody tr th:only-of-type {\n",
       "        vertical-align: middle;\n",
       "    }\n",
       "\n",
       "    .dataframe tbody tr th {\n",
       "        vertical-align: top;\n",
       "    }\n",
       "\n",
       "    .dataframe thead th {\n",
       "        text-align: right;\n",
       "    }\n",
       "</style>\n",
       "<table border=\"1\" class=\"dataframe\">\n",
       "  <thead>\n",
       "    <tr style=\"text-align: right;\">\n",
       "      <th></th>\n",
       "      <th>polarity</th>\n",
       "      <th>title</th>\n",
       "      <th>text</th>\n",
       "    </tr>\n",
       "  </thead>\n",
       "  <tbody>\n",
       "    <tr>\n",
       "      <th>0</th>\n",
       "      <td>1</td>\n",
       "      <td>Stuning even for the non-gamer</td>\n",
       "      <td>This sound track was beautiful! It paints the ...</td>\n",
       "    </tr>\n",
       "    <tr>\n",
       "      <th>1</th>\n",
       "      <td>1</td>\n",
       "      <td>The best soundtrack ever to anything.</td>\n",
       "      <td>I'm reading a lot of reviews saying that this ...</td>\n",
       "    </tr>\n",
       "    <tr>\n",
       "      <th>2</th>\n",
       "      <td>1</td>\n",
       "      <td>Amazing!</td>\n",
       "      <td>This soundtrack is my favorite music of all ti...</td>\n",
       "    </tr>\n",
       "    <tr>\n",
       "      <th>3</th>\n",
       "      <td>1</td>\n",
       "      <td>Excellent Soundtrack</td>\n",
       "      <td>I truly like this soundtrack and I enjoy video...</td>\n",
       "    </tr>\n",
       "    <tr>\n",
       "      <th>4</th>\n",
       "      <td>1</td>\n",
       "      <td>Remember, Pull Your Jaw Off The Floor After He...</td>\n",
       "      <td>If you've played the game, you know how divine...</td>\n",
       "    </tr>\n",
       "    <tr>\n",
       "      <th>...</th>\n",
       "      <td>...</td>\n",
       "      <td>...</td>\n",
       "      <td>...</td>\n",
       "    </tr>\n",
       "    <tr>\n",
       "      <th>3599995</th>\n",
       "      <td>0</td>\n",
       "      <td>Don't do it!!</td>\n",
       "      <td>The high chair looks great when it first comes...</td>\n",
       "    </tr>\n",
       "    <tr>\n",
       "      <th>3599996</th>\n",
       "      <td>0</td>\n",
       "      <td>Looks nice, low functionality</td>\n",
       "      <td>I have used this highchair for 2 kids now and ...</td>\n",
       "    </tr>\n",
       "    <tr>\n",
       "      <th>3599997</th>\n",
       "      <td>0</td>\n",
       "      <td>compact, but hard to clean</td>\n",
       "      <td>We have a small house, and really wanted two o...</td>\n",
       "    </tr>\n",
       "    <tr>\n",
       "      <th>3599998</th>\n",
       "      <td>0</td>\n",
       "      <td>what is it saying?</td>\n",
       "      <td>not sure what this book is supposed to be. It ...</td>\n",
       "    </tr>\n",
       "    <tr>\n",
       "      <th>3599999</th>\n",
       "      <td>1</td>\n",
       "      <td>Makes My Blood Run Red-White-And-Blue</td>\n",
       "      <td>I agree that every American should read this b...</td>\n",
       "    </tr>\n",
       "  </tbody>\n",
       "</table>\n",
       "<p>3600000 rows × 3 columns</p>\n",
       "</div>"
      ],
      "text/plain": [
       "         polarity                                              title  \\\n",
       "0               1                     Stuning even for the non-gamer   \n",
       "1               1              The best soundtrack ever to anything.   \n",
       "2               1                                           Amazing!   \n",
       "3               1                               Excellent Soundtrack   \n",
       "4               1  Remember, Pull Your Jaw Off The Floor After He...   \n",
       "...           ...                                                ...   \n",
       "3599995         0                                      Don't do it!!   \n",
       "3599996         0                      Looks nice, low functionality   \n",
       "3599997         0                         compact, but hard to clean   \n",
       "3599998         0                                 what is it saying?   \n",
       "3599999         1              Makes My Blood Run Red-White-And-Blue   \n",
       "\n",
       "                                                      text  \n",
       "0        This sound track was beautiful! It paints the ...  \n",
       "1        I'm reading a lot of reviews saying that this ...  \n",
       "2        This soundtrack is my favorite music of all ti...  \n",
       "3        I truly like this soundtrack and I enjoy video...  \n",
       "4        If you've played the game, you know how divine...  \n",
       "...                                                    ...  \n",
       "3599995  The high chair looks great when it first comes...  \n",
       "3599996  I have used this highchair for 2 kids now and ...  \n",
       "3599997  We have a small house, and really wanted two o...  \n",
       "3599998  not sure what this book is supposed to be. It ...  \n",
       "3599999  I agree that every American should read this b...  \n",
       "\n",
       "[3600000 rows x 3 columns]"
      ]
     },
     "execution_count": 7,
     "metadata": {},
     "output_type": "execute_result"
    }
   ],
   "source": [
    "def change_polarity(polarity):\n",
    "    if polarity == 1:\n",
    "        return 0\n",
    "    return 1\n",
    "\n",
    "data['polarity'] = data['polarity'].apply(change_polarity)\n",
    "data"
   ]
  },
  {
   "cell_type": "markdown",
   "id": "f28f00c0",
   "metadata": {},
   "source": [
    "* Now, the polarity 1, means positive review and polarity 0 means, negative review"
   ]
  },
  {
   "cell_type": "markdown",
   "id": "13677842",
   "metadata": {},
   "source": [
    "## Data Preprocessing"
   ]
  },
  {
   "cell_type": "markdown",
   "id": "2c1a1c8f",
   "metadata": {},
   "source": [
    "In, this section i'm going to preprocess title and text data"
   ]
  },
  {
   "cell_type": "code",
   "execution_count": 8,
   "id": "b6c924c2",
   "metadata": {},
   "outputs": [],
   "source": [
    "import nltk\n",
    "from nltk.corpus import stopwords\n",
    "stopword = stopwords.words('english')"
   ]
  },
  {
   "cell_type": "code",
   "execution_count": 9,
   "id": "1f6766af",
   "metadata": {},
   "outputs": [],
   "source": [
    "\n",
    "punctuation = \"\"\"\n",
    "!\"#$%&'()*+, -/:;<=>?@[\\]^_`{|}~—“”\n",
    "\"\"\"\n",
    "\n",
    "def remove_text_with_brackets(row):\n",
    "    row=re.sub(\"\\(.*?\\)\",\"\",row)\n",
    "    row=re.sub(\"\\{.*?\\}\",\"\",row)\n",
    "    row=re.sub(\"\\[.*?\\]\",\"\",row)\n",
    "    row=re.sub(\"\\<.*?\\>\",\"\",row)\n",
    "    return row\n",
    "\n",
    "def remove_stopwords(row):\n",
    "    doc = ' '.join([word for word in row.split() if word not in stopword])\n",
    "    return doc\n",
    "\n",
    "def remove_punctuations(row):\n",
    "    for punc in punctuation:\n",
    "        row = row.replace(punc, ' ')\n",
    "    return row\n",
    "\n",
    "def remove_digits(row):\n",
    "    doc = ' '.join([word for word in row.split() if word.isalpha()])\n",
    "    return doc\n",
    "\n",
    "def remove_urls(row):\n",
    "    doc = []\n",
    "    for word in row.split():\n",
    "        if not word.startswith('http') and not word.startswith('www'):\n",
    "            if not len(word)<=2 and not len(word)>12:\n",
    "                doc.append(word)\n",
    "    return ' '.join(doc)\n",
    "\n",
    "\n",
    "def preprocess(row):\n",
    "    row = str(row)\n",
    "    row = remove_digits(row)\n",
    "    row = row.lower()\n",
    "    decontracted_word_sentences = ' '.join([contractions.fix(word) for word in row.split(' ')])\n",
    "    row = decontracted_word_sentences.strip()\n",
    "    row = remove_text_with_brackets(row)\n",
    "    # row = remove_stopwords(row)\n",
    "    row = remove_urls(row)\n",
    "    row = remove_punctuations(row)\n",
    "    doc = ' '.join([word for word in row.split()])\n",
    "    \n",
    "    return doc\n"
   ]
  },
  {
   "cell_type": "code",
   "execution_count": 10,
   "id": "9e3dbf64",
   "metadata": {},
   "outputs": [],
   "source": [
    "def preprocessing(row):\n",
    "    polarity = row[0]\n",
    "    title = preprocess(row[1])\n",
    "    text = preprocess(row[2])\n",
    "    return polarity, title, text"
   ]
  },
  {
   "cell_type": "code",
   "execution_count": 11,
   "id": "3d221677",
   "metadata": {},
   "outputs": [],
   "source": [
    "def get_preprocesse_data(data):\n",
    "    start_time = datetime.now()\n",
    "    print(f'Preprocessing...')\n",
    "    preprocessed_data = Parallel(n_jobs=-1)(delayed(preprocessing)(row) for row in data.values)\n",
    "\n",
    "    polarity, text = [], []\n",
    "    for datapoint in preprocessed_data:\n",
    "        polarity.append(datapoint[0])\n",
    "        text.append(datapoint[1] + ' ' + datapoint[2])\n",
    "\n",
    "    df = pd.DataFrame()\n",
    "    df['text'] = text\n",
    "    df['polarity'] = polarity\n",
    "    \n",
    "    del preprocessed_data\n",
    "    del polarity\n",
    "    del text\n",
    "    del data\n",
    "    print(f'Time taken in preprocessing: {datetime.now() - start_time}')\n",
    "    return df.sample(frac=1)"
   ]
  },
  {
   "cell_type": "code",
   "execution_count": 12,
   "id": "a4cf47cd",
   "metadata": {},
   "outputs": [
    {
     "name": "stdout",
     "output_type": "stream",
     "text": [
      "Preprocessing...\n",
      "Time taken in preprocessing: 0:02:22.801402\n"
     ]
    }
   ],
   "source": [
    "data = get_preprocesse_data(data)"
   ]
  },
  {
   "cell_type": "code",
   "execution_count": 13,
   "id": "0d84e862",
   "metadata": {},
   "outputs": [],
   "source": [
    "# text_length = data['text'].str.split(' ').apply(len)"
   ]
  },
  {
   "cell_type": "code",
   "execution_count": 14,
   "id": "0e52179f",
   "metadata": {},
   "outputs": [],
   "source": [
    "# print(f'%tile\\tNum of words')\n",
    "# for i in range(0, 101, 10):\n",
    "#     print(f'{i}\\t{np.percentile(text_length, i)}')\n",
    "    \n",
    "# print(f'\\n%tile\\tNum of words')\n",
    "# for i in range(90, 101, 1):\n",
    "#     print(f'{i}\\t{np.percentile(text_length, i)}')"
   ]
  },
  {
   "cell_type": "code",
   "execution_count": 15,
   "id": "75e43d6a",
   "metadata": {},
   "outputs": [
    {
     "data": {
      "text/html": [
       "<div>\n",
       "<style scoped>\n",
       "    .dataframe tbody tr th:only-of-type {\n",
       "        vertical-align: middle;\n",
       "    }\n",
       "\n",
       "    .dataframe tbody tr th {\n",
       "        vertical-align: top;\n",
       "    }\n",
       "\n",
       "    .dataframe thead th {\n",
       "        text-align: right;\n",
       "    }\n",
       "</style>\n",
       "<table border=\"1\" class=\"dataframe\">\n",
       "  <thead>\n",
       "    <tr style=\"text-align: right;\">\n",
       "      <th></th>\n",
       "      <th>text</th>\n",
       "      <th>polarity</th>\n",
       "    </tr>\n",
       "  </thead>\n",
       "  <tbody>\n",
       "    <tr>\n",
       "      <th>115192</th>\n",
       "      <td>what ross suggests you techniques are grounded...</td>\n",
       "      <td>1</td>\n",
       "    </tr>\n",
       "    <tr>\n",
       "      <th>3233207</th>\n",
       "      <td>organ awareness all the stops pretty concise o...</td>\n",
       "      <td>1</td>\n",
       "    </tr>\n",
       "    <tr>\n",
       "      <th>75350</th>\n",
       "      <td>for the imprisoned this item was given gift wh...</td>\n",
       "      <td>1</td>\n",
       "    </tr>\n",
       "    <tr>\n",
       "      <th>2671521</th>\n",
       "      <td>put this great this terrific saw have vhs put ...</td>\n",
       "      <td>1</td>\n",
       "    </tr>\n",
       "    <tr>\n",
       "      <th>1781563</th>\n",
       "      <td>the memory fonder somehow thought this film wa...</td>\n",
       "      <td>0</td>\n",
       "    </tr>\n",
       "    <tr>\n",
       "      <th>...</th>\n",
       "      <td>...</td>\n",
       "      <td>...</td>\n",
       "    </tr>\n",
       "    <tr>\n",
       "      <th>820793</th>\n",
       "      <td>had this tea for the first time today and abs...</td>\n",
       "      <td>1</td>\n",
       "    </tr>\n",
       "    <tr>\n",
       "      <th>1639747</th>\n",
       "      <td>funny book very funny never thought that gramm...</td>\n",
       "      <td>1</td>\n",
       "    </tr>\n",
       "    <tr>\n",
       "      <th>3220533</th>\n",
       "      <td>slow predicted and repetitive movie too long a...</td>\n",
       "      <td>0</td>\n",
       "    </tr>\n",
       "    <tr>\n",
       "      <th>3183042</th>\n",
       "      <td>more trouble than worth too much litter and ru...</td>\n",
       "      <td>0</td>\n",
       "    </tr>\n",
       "    <tr>\n",
       "      <th>1391930</th>\n",
       "      <td>junk aware that this product the connectors no...</td>\n",
       "      <td>0</td>\n",
       "    </tr>\n",
       "  </tbody>\n",
       "</table>\n",
       "<p>3600000 rows × 2 columns</p>\n",
       "</div>"
      ],
      "text/plain": [
       "                                                      text  polarity\n",
       "115192   what ross suggests you techniques are grounded...         1\n",
       "3233207  organ awareness all the stops pretty concise o...         1\n",
       "75350    for the imprisoned this item was given gift wh...         1\n",
       "2671521  put this great this terrific saw have vhs put ...         1\n",
       "1781563  the memory fonder somehow thought this film wa...         0\n",
       "...                                                    ...       ...\n",
       "820793    had this tea for the first time today and abs...         1\n",
       "1639747  funny book very funny never thought that gramm...         1\n",
       "3220533  slow predicted and repetitive movie too long a...         0\n",
       "3183042  more trouble than worth too much litter and ru...         0\n",
       "1391930  junk aware that this product the connectors no...         0\n",
       "\n",
       "[3600000 rows x 2 columns]"
      ]
     },
     "execution_count": 15,
     "metadata": {},
     "output_type": "execute_result"
    }
   ],
   "source": [
    "data"
   ]
  },
  {
   "cell_type": "code",
   "execution_count": 16,
   "id": "93bd0f19",
   "metadata": {},
   "outputs": [],
   "source": [
    "# data['text_length'] = text_length\n",
    "# data = data[data['text_length'] < 50]\n",
    "# data.shape"
   ]
  },
  {
   "cell_type": "code",
   "execution_count": 17,
   "id": "e858e38e",
   "metadata": {},
   "outputs": [],
   "source": [
    "# positive_data = data[data['polarity'] == 1].iloc[:500000,:]\n",
    "# negative_data = data[data['polarity'] == 0].iloc[:500000,:]"
   ]
  },
  {
   "cell_type": "code",
   "execution_count": 18,
   "id": "647b5f39",
   "metadata": {},
   "outputs": [],
   "source": [
    "# positive_data.shape, negative_data.shape"
   ]
  },
  {
   "cell_type": "code",
   "execution_count": 19,
   "id": "9f33c6bd",
   "metadata": {},
   "outputs": [],
   "source": [
    "# final_data = pd.concat([positive_data, negative_data], axis=0).sample(frac=1)\n",
    "# final_data.to_csv('final_data.csv', index=False)\n",
    "data.to_csv('final_data.csv', index=False)"
   ]
  },
  {
   "cell_type": "code",
   "execution_count": 20,
   "id": "58a171da",
   "metadata": {},
   "outputs": [
    {
     "data": {
      "text/plain": [
       "((3600000, 2),\n",
       " 0    1800000\n",
       " 1    1800000\n",
       " Name: polarity, dtype: int64)"
      ]
     },
     "execution_count": 20,
     "metadata": {},
     "output_type": "execute_result"
    }
   ],
   "source": [
    "data.shape, data['polarity'].value_counts()"
   ]
  },
  {
   "cell_type": "code",
   "execution_count": null,
   "id": "d9b3c32e",
   "metadata": {},
   "outputs": [],
   "source": []
  },
  {
   "cell_type": "code",
   "execution_count": null,
   "id": "deee3a1a",
   "metadata": {},
   "outputs": [],
   "source": []
  },
  {
   "cell_type": "code",
   "execution_count": null,
   "id": "783069f1",
   "metadata": {},
   "outputs": [],
   "source": []
  },
  {
   "cell_type": "code",
   "execution_count": null,
   "id": "17259f01",
   "metadata": {},
   "outputs": [],
   "source": []
  },
  {
   "cell_type": "code",
   "execution_count": null,
   "id": "7a8ad4c2",
   "metadata": {},
   "outputs": [],
   "source": []
  },
  {
   "cell_type": "code",
   "execution_count": null,
   "id": "bc787ac6",
   "metadata": {},
   "outputs": [],
   "source": []
  },
  {
   "cell_type": "code",
   "execution_count": null,
   "id": "bf4f76a1",
   "metadata": {},
   "outputs": [],
   "source": []
  },
  {
   "cell_type": "code",
   "execution_count": null,
   "id": "c2ed0724",
   "metadata": {},
   "outputs": [],
   "source": []
  },
  {
   "cell_type": "code",
   "execution_count": null,
   "id": "20b244e8",
   "metadata": {},
   "outputs": [],
   "source": []
  }
 ],
 "metadata": {
  "kernelspec": {
   "display_name": "Python 3",
   "language": "python",
   "name": "python3"
  },
  "language_info": {
   "codemirror_mode": {
    "name": "ipython",
    "version": 3
   },
   "file_extension": ".py",
   "mimetype": "text/x-python",
   "name": "python",
   "nbconvert_exporter": "python",
   "pygments_lexer": "ipython3",
   "version": "3.8.8"
  }
 },
 "nbformat": 4,
 "nbformat_minor": 5
}
