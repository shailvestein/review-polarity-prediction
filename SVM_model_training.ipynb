{
 "cells": [
  {
   "cell_type": "code",
   "execution_count": 1,
   "id": "35242747",
   "metadata": {},
   "outputs": [],
   "source": [
    "import pandas as pd\n",
    "import numpy as np\n",
    "import os\n",
    "import re\n",
    "import shutil\n",
    "import pickle\n",
    "import contractions\n",
    "import seaborn as sns\n",
    "import matplotlib.pyplot as plt\n",
    "from tqdm import tqdm\n",
    "from datetime import datetime"
   ]
  },
  {
   "cell_type": "code",
   "execution_count": 2,
   "id": "fbf9bb6f",
   "metadata": {},
   "outputs": [],
   "source": [
    "data = pd.read_csv('final_data.csv')"
   ]
  },
  {
   "cell_type": "code",
   "execution_count": 3,
   "id": "3a25aa42",
   "metadata": {},
   "outputs": [
    {
     "name": "stdout",
     "output_type": "stream",
     "text": [
      "Shape of train dataset: (2880000, 2)\n",
      "Shape of test dataset: (720000, 2)\n"
     ]
    }
   ],
   "source": [
    "from sklearn.model_selection import train_test_split\n",
    "\n",
    "train, test = train_test_split(data[['text', 'polarity']], test_size=0.2)\n",
    "\n",
    "print(f'Shape of train dataset: {train.shape}')\n",
    "print(f'Shape of test dataset: {test.shape}')"
   ]
  },
  {
   "cell_type": "code",
   "execution_count": 4,
   "id": "ef996426",
   "metadata": {},
   "outputs": [
    {
     "data": {
      "text/plain": [
       "0    1440610\n",
       "1    1439390\n",
       "Name: polarity, dtype: int64"
      ]
     },
     "execution_count": 4,
     "metadata": {},
     "output_type": "execute_result"
    }
   ],
   "source": [
    "train['polarity'].value_counts()"
   ]
  },
  {
   "cell_type": "code",
   "execution_count": 5,
   "id": "ad29ecac",
   "metadata": {},
   "outputs": [
    {
     "data": {
      "text/plain": [
       "1    360610\n",
       "0    359390\n",
       "Name: polarity, dtype: int64"
      ]
     },
     "execution_count": 5,
     "metadata": {},
     "output_type": "execute_result"
    }
   ],
   "source": [
    "test['polarity'].value_counts()"
   ]
  },
  {
   "cell_type": "code",
   "execution_count": 6,
   "id": "c46423e4",
   "metadata": {},
   "outputs": [],
   "source": [
    "from sklearn.feature_extraction.text import TfidfVectorizer\n",
    "\n",
    "vectorizer = TfidfVectorizer()"
   ]
  },
  {
   "cell_type": "code",
   "execution_count": 7,
   "id": "5bb3e781",
   "metadata": {},
   "outputs": [],
   "source": [
    "train_vector = vectorizer.fit_transform(train['text'].values)\n",
    "test_vector = vectorizer.transform(test['text'].values)"
   ]
  },
  {
   "cell_type": "code",
   "execution_count": 8,
   "id": "512a848c",
   "metadata": {},
   "outputs": [
    {
     "data": {
      "text/plain": [
       "((2880000, 556856), (720000, 556856))"
      ]
     },
     "execution_count": 8,
     "metadata": {},
     "output_type": "execute_result"
    }
   ],
   "source": [
    "train_vector.shape, test_vector.shape"
   ]
  },
  {
   "cell_type": "code",
   "execution_count": 20,
   "id": "c8e997ee",
   "metadata": {},
   "outputs": [],
   "source": [
    "\n",
    "with open('vectorizer.pkl', 'wb') as f:\n",
    "    pickle.dump(vectorizer, f)"
   ]
  },
  {
   "cell_type": "code",
   "execution_count": 9,
   "id": "74c36d07",
   "metadata": {},
   "outputs": [],
   "source": [
    "train_y = train['polarity'].values\n",
    "test_y = test['polarity'].values"
   ]
  },
  {
   "cell_type": "code",
   "execution_count": 10,
   "id": "41e675c1",
   "metadata": {},
   "outputs": [],
   "source": [
    "from sklearn.linear_model import SGDClassifier\n",
    "from sklearn.neighbors import KNeighborsClassifier"
   ]
  },
  {
   "cell_type": "code",
   "execution_count": 11,
   "id": "ffb902f0",
   "metadata": {},
   "outputs": [],
   "source": [
    "svm = SGDClassifier(loss='hinge', n_jobs=-1)\n",
    "logistic = SGDClassifier(loss='log', n_jobs=-1)\n",
    "knn = KNeighborsClassifier(n_jobs=-1)"
   ]
  },
  {
   "cell_type": "code",
   "execution_count": 12,
   "id": "a88f623c",
   "metadata": {},
   "outputs": [
    {
     "data": {
      "text/plain": [
       "SGDClassifier(n_jobs=-1)"
      ]
     },
     "execution_count": 12,
     "metadata": {},
     "output_type": "execute_result"
    }
   ],
   "source": [
    "svm.fit(train_vector, train_y)"
   ]
  },
  {
   "cell_type": "code",
   "execution_count": 13,
   "id": "e9797197",
   "metadata": {},
   "outputs": [],
   "source": [
    "svm_y_hat = svm.predict(test_vector)"
   ]
  },
  {
   "cell_type": "code",
   "execution_count": 14,
   "id": "b658f101",
   "metadata": {},
   "outputs": [
    {
     "data": {
      "text/plain": [
       "0.8681611111111112"
      ]
     },
     "execution_count": 14,
     "metadata": {},
     "output_type": "execute_result"
    }
   ],
   "source": [
    "from sklearn.metrics import accuracy_score\n",
    "\n",
    "accuracy_score(test_y, svm_y_hat)"
   ]
  },
  {
   "cell_type": "code",
   "execution_count": 15,
   "id": "1eed6210",
   "metadata": {},
   "outputs": [
    {
     "data": {
      "text/plain": [
       "SGDClassifier(loss='log', n_jobs=-1)"
      ]
     },
     "execution_count": 15,
     "metadata": {},
     "output_type": "execute_result"
    }
   ],
   "source": [
    "logistic.fit(train_vector, train_y)"
   ]
  },
  {
   "cell_type": "code",
   "execution_count": 16,
   "id": "3193757b",
   "metadata": {},
   "outputs": [
    {
     "data": {
      "text/plain": [
       "0.8549166666666667"
      ]
     },
     "execution_count": 16,
     "metadata": {},
     "output_type": "execute_result"
    }
   ],
   "source": [
    "log_y_hat = logistic.predict(test_vector)\n",
    "accuracy_score(test_y, log_y_hat)"
   ]
  },
  {
   "cell_type": "code",
   "execution_count": 17,
   "id": "f96240f0",
   "metadata": {},
   "outputs": [],
   "source": [
    "_ = svm.predict(test_vector)\n",
    "test_y_hat = [1 if i>0.55 else 0 for i in _]"
   ]
  },
  {
   "cell_type": "code",
   "execution_count": 18,
   "id": "9302128b",
   "metadata": {},
   "outputs": [],
   "source": [
    "from tensorflow.math import confusion_matrix\n",
    "\n",
    "conf_mat = confusion_matrix(test_y, test_y_hat, num_classes=2)"
   ]
  },
  {
   "cell_type": "code",
   "execution_count": 19,
   "id": "5498e2dd",
   "metadata": {},
   "outputs": [
    {
     "data": {
      "text/plain": [
       "<AxesSubplot:>"
      ]
     },
     "execution_count": 19,
     "metadata": {},
     "output_type": "execute_result"
    },
    {
     "data": {
      "image/png": "[encoded data removed]",
      "text/plain": [
       "<Figure size 432x288 with 2 Axes>"
      ]
     },
     "metadata": {
      "needs_background": "light"
     },
     "output_type": "display_data"
    }
   ],
   "source": [
    "sns.heatmap(conf_mat, annot=True, fmt='d')"
   ]
  },
  {
   "cell_type": "code",
   "execution_count": 27,
   "id": "dfd1c18c",
   "metadata": {},
   "outputs": [],
   "source": [
    "query = 'this product is as not good as expected'\n",
    "query = vectorizer.transform([query])"
   ]
  },
  {
   "cell_type": "code",
   "execution_count": 28,
   "id": "2e22fac2",
   "metadata": {},
   "outputs": [
    {
     "data": {
      "text/plain": [
       "array([0], dtype=int64)"
      ]
     },
     "execution_count": 28,
     "metadata": {},
     "output_type": "execute_result"
    }
   ],
   "source": [
    "svm.predict(query)"
   ]
  },
  {
   "cell_type": "code",
   "execution_count": 29,
   "id": "8e08a694",
   "metadata": {},
   "outputs": [],
   "source": [
    "\n",
    "with open('svm_classifier.pkl', 'wb') as f:\n",
    "    pickle.dump(svm, f)"
   ]
  },
  {
   "cell_type": "code",
   "execution_count": null,
   "id": "1b469c41",
   "metadata": {},
   "outputs": [],
   "source": []
  }
 ],
 "metadata": {
  "kernelspec": {
   "display_name": "tf2.5",
   "language": "python",
   "name": "tfgpu"
  },
  "language_info": {
   "codemirror_mode": {
    "name": "ipython",
    "version": 3
   },
   "file_extension": ".py",
   "mimetype": "text/x-python",
   "name": "python",
   "nbconvert_exporter": "python",
   "pygments_lexer": "ipython3",
   "version": "3.9.7"
  }
 },
 "nbformat": 4,
 "nbformat_minor": 5
}
